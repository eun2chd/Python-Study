{
 "cells": [
  {
   "cell_type": "code",
   "execution_count": 4,
   "metadata": {},
   "outputs": [
    {
     "name": "stdout",
     "output_type": "stream",
     "text": [
      "품목별 개수와 총금액:\n",
      "  구매내역  개수    총금액\n",
      "0   과자   2   6500\n",
      "1  도시락   1   4000\n",
      "2  음료수   1   1500\n",
      "3   커피   3  11000\n",
      "\n",
      "중복된 사업자 번호와 중복 횟수 (정리된 테이블):\n",
      "        사업자등록번호  중복 횟수\n",
      "0  123-45-67890      3\n",
      "1  456-78-90123      2\n",
      "2  987-65-43210      2\n",
      "\n",
      "결과가 'grouped_items_result.xlsx'와 'duplicated_business_numbers_result.xlsx'에 저장되었습니다!\n"
     ]
    }
   ],
   "source": [
    "import pandas as pd\n",
    "\n",
    "# 엑셀 파일 열기\n",
    "file_path = \"./sampledata.xlsx\"  # 파일 이름\n",
    "df = pd.read_excel(file_path, engine=\"openpyxl\")\n",
    "\n",
    "# 품목별로 묶어서 각 품목의 개수와 총 금액 계산\n",
    "grouped_items = df.groupby(\"구매내역\").agg(\n",
    "    개수=(\"구매내역\", \"count\"),\n",
    "    총금액=(\"금액\", \"sum\")\n",
    ").reset_index()\n",
    "\n",
    "print(\"품목별 개수와 총금액:\")\n",
    "print(grouped_items)\n",
    "\n",
    "# 중복된 사업자등록번호 파악하기\n",
    "duplicated_business_numbers = df[\"사업자등록번호\"].duplicated(keep=False)\n",
    "duplicated_data = df[duplicated_business_numbers].groupby(\"사업자등록번호\").size()\n",
    "\n",
    "# 중복된 데이터 테이블로 정리\n",
    "duplicated_data_table = duplicated_data.reset_index(name=\"중복 횟수\")\n",
    "print(\"\\n중복된 사업자 번호와 중복 횟수 (정리된 테이블):\")\n",
    "print(duplicated_data_table)\n",
    "\n",
    "# 결과 저장\n",
    "grouped_items.to_excel(\"grouped_items_result.xlsx\", index=False)\n",
    "duplicated_data_table.to_excel(\"duplicated_business_numbers_result.xlsx\", index=False)\n",
    "print(\"\\n결과가 'grouped_items_result.xlsx'와 'duplicated_business_numbers_result.xlsx'에 저장되었습니다!\")\n"
   ]
  },
  {
   "cell_type": "code",
   "execution_count": 2,
   "metadata": {},
   "outputs": [
    {
     "name": "stdout",
     "output_type": "stream",
     "text": [
      "현재 작업 디렉토리: c:\\Users\\echong\\Desktop\\개발\\python\\Python-Study\\pythonProject\n"
     ]
    }
   ],
   "source": [
    "import os\n",
    "print(\"현재 작업 디렉토리:\", os.getcwd())\n"
   ]
  },
  {
   "cell_type": "code",
   "execution_count": 1,
   "metadata": {},
   "outputs": [
    {
     "name": "stdout",
     "output_type": "stream",
     "text": [
      "hello\n"
     ]
    }
   ],
   "source": [
    "print('hello')"
   ]
  }
 ],
 "metadata": {
  "kernelspec": {
   "display_name": "base",
   "language": "python",
   "name": "python3"
  },
  "language_info": {
   "codemirror_mode": {
    "name": "ipython",
    "version": 3
   },
   "file_extension": ".py",
   "mimetype": "text/x-python",
   "name": "python",
   "nbconvert_exporter": "python",
   "pygments_lexer": "ipython3",
   "version": "3.11.4"
  }
 },
 "nbformat": 4,
 "nbformat_minor": 2
}
